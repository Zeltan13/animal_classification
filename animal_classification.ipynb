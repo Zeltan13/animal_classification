{
 "cells": [
  {
   "cell_type": "code",
   "execution_count": 1,
   "metadata": {},
   "outputs": [
    {
     "name": "stdout",
     "output_type": "stream",
     "text": [
      "Files renamed successfully!\n"
     ]
    }
   ],
   "source": [
    "import os\n",
    "\n",
    "# Define the directory containing the files\n",
    "directory = r\"D:\\Random_Projects\\IDCamp\\Proyek 2\\cat val\"\n",
    "\n",
    "# Iterate over files in the directory\n",
    "for index, filename in enumerate(os.listdir(directory)):\n",
    "    file_path = os.path.join(directory, filename)\n",
    "    \n",
    "    # Check if it's a file\n",
    "    if os.path.isfile(file_path):\n",
    "        # Create a new filename (e.g., cat_001.jpg, cat_002.png)\n",
    "        new_filename = f\"catv_{index+1:03d}{os.path.splitext(filename)[1]}\"\n",
    "        new_path = os.path.join(directory, new_filename)\n",
    "        \n",
    "        # Rename the file\n",
    "        os.rename(file_path, new_path)\n",
    "\n",
    "print(\"Files renamed successfully!\")"
   ]
  }
 ],
 "metadata": {
  "kernelspec": {
   "display_name": "Python 3",
   "language": "python",
   "name": "python3"
  },
  "language_info": {
   "codemirror_mode": {
    "name": "ipython",
    "version": 3
   },
   "file_extension": ".py",
   "mimetype": "text/x-python",
   "name": "python",
   "nbconvert_exporter": "python",
   "pygments_lexer": "ipython3",
   "version": "3.10.0"
  }
 },
 "nbformat": 4,
 "nbformat_minor": 2
}
